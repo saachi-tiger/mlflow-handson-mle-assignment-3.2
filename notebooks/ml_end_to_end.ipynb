{
 "cells": [
  {
   "cell_type": "markdown",
   "metadata": {},
   "source": [
    "## Exercise 1"
   ]
  },
  {
   "cell_type": "code",
   "execution_count": 1,
   "metadata": {},
   "outputs": [],
   "source": [
    "# Importing necessary libraries\n",
    "import os\n",
    "import pandas as pd\n",
    "import numpy as np\n",
    "from sklearn.model_selection import train_test_split, GridSearchCV, RandomizedSearchCV\n",
    "from sklearn.impute import SimpleImputer\n",
    "from sklearn.preprocessing import StandardScaler, OneHotEncoder\n",
    "from sklearn.compose import ColumnTransformer\n",
    "from sklearn.pipeline import Pipeline\n",
    "from sklearn.svm import SVR\n",
    "from sklearn.metrics import mean_squared_error, r2_score\n",
    "from sklearn.feature_selection import SelectKBest, f_regression\n",
    "from scipy.stats import expon, reciprocal\n",
    "import tarfile\n",
    "import urllib"
   ]
  },
  {
   "cell_type": "code",
   "execution_count": 2,
   "metadata": {},
   "outputs": [],
   "source": [
    "DOWNLOAD_ROOT = \"https://raw.githubusercontent.com/ageron/handson-ml2/master/\"\n",
    "HOUSING_PATH = os.path.join(\"datasets\", \"housing\")\n",
    "HOUSING_URL = DOWNLOAD_ROOT + \"datasets/housing/housing.tgz\""
   ]
  },
  {
   "cell_type": "code",
   "execution_count": 3,
   "metadata": {},
   "outputs": [],
   "source": [
    "def fetch_housing_data(housing_url=HOUSING_URL, housing_path=HOUSING_PATH):\n",
    "    os.makedirs(housing_path, exist_ok=True)\n",
    "    tgz_path = os.path.join(housing_path, \"housing.tgz\")\n",
    "    urllib.request.urlretrieve(housing_url, tgz_path)\n",
    "    housing_tgz = tarfile.open(tgz_path)\n",
    "    housing_tgz.extractall(path=housing_path)\n",
    "    housing_tgz.close()\n",
    "\n",
    "def load_housing_data(housing_path=HOUSING_PATH):\n",
    "    csv_path = os.path.join(housing_path, \"housing.csv\")\n",
    "    return pd.read_csv(csv_path)"
   ]
  },
  {
   "cell_type": "code",
   "execution_count": 4,
   "metadata": {},
   "outputs": [
    {
     "data": {
      "text/html": [
       "<div>\n",
       "<style scoped>\n",
       "    .dataframe tbody tr th:only-of-type {\n",
       "        vertical-align: middle;\n",
       "    }\n",
       "\n",
       "    .dataframe tbody tr th {\n",
       "        vertical-align: top;\n",
       "    }\n",
       "\n",
       "    .dataframe thead th {\n",
       "        text-align: right;\n",
       "    }\n",
       "</style>\n",
       "<table border=\"1\" class=\"dataframe\">\n",
       "  <thead>\n",
       "    <tr style=\"text-align: right;\">\n",
       "      <th></th>\n",
       "      <th>longitude</th>\n",
       "      <th>latitude</th>\n",
       "      <th>housing_median_age</th>\n",
       "      <th>total_rooms</th>\n",
       "      <th>total_bedrooms</th>\n",
       "      <th>population</th>\n",
       "      <th>households</th>\n",
       "      <th>median_income</th>\n",
       "      <th>median_house_value</th>\n",
       "      <th>ocean_proximity</th>\n",
       "    </tr>\n",
       "  </thead>\n",
       "  <tbody>\n",
       "    <tr>\n",
       "      <th>0</th>\n",
       "      <td>-122.23</td>\n",
       "      <td>37.88</td>\n",
       "      <td>41.0</td>\n",
       "      <td>880.0</td>\n",
       "      <td>129.0</td>\n",
       "      <td>322.0</td>\n",
       "      <td>126.0</td>\n",
       "      <td>8.3252</td>\n",
       "      <td>452600.0</td>\n",
       "      <td>NEAR BAY</td>\n",
       "    </tr>\n",
       "    <tr>\n",
       "      <th>1</th>\n",
       "      <td>-122.22</td>\n",
       "      <td>37.86</td>\n",
       "      <td>21.0</td>\n",
       "      <td>7099.0</td>\n",
       "      <td>1106.0</td>\n",
       "      <td>2401.0</td>\n",
       "      <td>1138.0</td>\n",
       "      <td>8.3014</td>\n",
       "      <td>358500.0</td>\n",
       "      <td>NEAR BAY</td>\n",
       "    </tr>\n",
       "    <tr>\n",
       "      <th>2</th>\n",
       "      <td>-122.24</td>\n",
       "      <td>37.85</td>\n",
       "      <td>52.0</td>\n",
       "      <td>1467.0</td>\n",
       "      <td>190.0</td>\n",
       "      <td>496.0</td>\n",
       "      <td>177.0</td>\n",
       "      <td>7.2574</td>\n",
       "      <td>352100.0</td>\n",
       "      <td>NEAR BAY</td>\n",
       "    </tr>\n",
       "    <tr>\n",
       "      <th>3</th>\n",
       "      <td>-122.25</td>\n",
       "      <td>37.85</td>\n",
       "      <td>52.0</td>\n",
       "      <td>1274.0</td>\n",
       "      <td>235.0</td>\n",
       "      <td>558.0</td>\n",
       "      <td>219.0</td>\n",
       "      <td>5.6431</td>\n",
       "      <td>341300.0</td>\n",
       "      <td>NEAR BAY</td>\n",
       "    </tr>\n",
       "    <tr>\n",
       "      <th>4</th>\n",
       "      <td>-122.25</td>\n",
       "      <td>37.85</td>\n",
       "      <td>52.0</td>\n",
       "      <td>1627.0</td>\n",
       "      <td>280.0</td>\n",
       "      <td>565.0</td>\n",
       "      <td>259.0</td>\n",
       "      <td>3.8462</td>\n",
       "      <td>342200.0</td>\n",
       "      <td>NEAR BAY</td>\n",
       "    </tr>\n",
       "  </tbody>\n",
       "</table>\n",
       "</div>"
      ],
      "text/plain": [
       "   longitude  latitude  housing_median_age  total_rooms  total_bedrooms  \\\n",
       "0    -122.23     37.88                41.0        880.0           129.0   \n",
       "1    -122.22     37.86                21.0       7099.0          1106.0   \n",
       "2    -122.24     37.85                52.0       1467.0           190.0   \n",
       "3    -122.25     37.85                52.0       1274.0           235.0   \n",
       "4    -122.25     37.85                52.0       1627.0           280.0   \n",
       "\n",
       "   population  households  median_income  median_house_value ocean_proximity  \n",
       "0       322.0       126.0         8.3252            452600.0        NEAR BAY  \n",
       "1      2401.0      1138.0         8.3014            358500.0        NEAR BAY  \n",
       "2       496.0       177.0         7.2574            352100.0        NEAR BAY  \n",
       "3       558.0       219.0         5.6431            341300.0        NEAR BAY  \n",
       "4       565.0       259.0         3.8462            342200.0        NEAR BAY  "
      ]
     },
     "execution_count": 4,
     "metadata": {},
     "output_type": "execute_result"
    }
   ],
   "source": [
    "fetch_housing_data(housing_url=HOUSING_URL, housing_path=HOUSING_PATH)\n",
    "housing=load_housing_data()\n",
    "housing.head()"
   ]
  },
  {
   "cell_type": "markdown",
   "metadata": {},
   "source": [
    "##### Define Data Preparation Pipeline"
   ]
  },
  {
   "cell_type": "code",
   "execution_count": 5,
   "metadata": {},
   "outputs": [],
   "source": [
    "# Separate features and target\n",
    "X = housing.drop(\"median_house_value\", axis=1)\n",
    "y = housing[\"median_house_value\"]"
   ]
  },
  {
   "cell_type": "code",
   "execution_count": 6,
   "metadata": {},
   "outputs": [],
   "source": [
    "# Numerical and categorical columns\n",
    "num_features = X.select_dtypes(include=[np.number]).columns.tolist()\n",
    "cat_features = X.select_dtypes(include=[object]).columns.tolist()"
   ]
  },
  {
   "cell_type": "code",
   "execution_count": 7,
   "metadata": {},
   "outputs": [],
   "source": [
    "# Create a numerical transformer pipeline\n",
    "num_transformer = Pipeline(steps=[\n",
    "    ('imputer', SimpleImputer(strategy='mean')),  # Handle missing values\n",
    "    ('scaler', StandardScaler())\n",
    "])\n",
    "\n",
    "# Create a categorical transformer pipeline\n",
    "cat_transformer = Pipeline(steps=[\n",
    "    ('imputer', SimpleImputer(strategy='most_frequent')),  # Handle missing values\n",
    "    ('onehot', OneHotEncoder(handle_unknown='ignore'))\n",
    "])\n"
   ]
  },
  {
   "cell_type": "code",
   "execution_count": 8,
   "metadata": {},
   "outputs": [],
   "source": [
    "# Combine into a column transformer\n",
    "preprocessor = ColumnTransformer(\n",
    "    transformers=[\n",
    "        ('num', num_transformer, num_features),\n",
    "        ('cat', cat_transformer, cat_features)\n",
    "    ]\n",
    ")\n"
   ]
  },
  {
   "cell_type": "code",
   "execution_count": 9,
   "metadata": {},
   "outputs": [],
   "source": [
    "# Define the full pipeline\n",
    "prep_pipeline = Pipeline(steps=[\n",
    "    ('preprocessor', preprocessor),\n",
    "    ('feature_selector', SelectKBest(score_func=f_regression, k=10))\n",
    "])"
   ]
  },
  {
   "cell_type": "markdown",
   "metadata": {},
   "source": [
    "##### Train-Test Split"
   ]
  },
  {
   "cell_type": "code",
   "execution_count": 10,
   "metadata": {},
   "outputs": [],
   "source": [
    "# Split into train and test sets\n",
    "X_train, X_test, y_train, y_test = train_test_split(X, y, test_size=0.2, random_state=42)"
   ]
  },
  {
   "cell_type": "code",
   "execution_count": 11,
   "metadata": {},
   "outputs": [],
   "source": [
    "# Apply the pipeline to preprocess the training data\n",
    "X_train_prepared = prep_pipeline.fit_transform(X_train, y_train)\n",
    "X_test_prepared = prep_pipeline.transform(X_test)"
   ]
  },
  {
   "cell_type": "markdown",
   "metadata": {},
   "source": [
    "## 1. Support Vector Regressor\n",
    "Using GridSearchCV"
   ]
  },
  {
   "cell_type": "code",
   "execution_count": 12,
   "metadata": {},
   "outputs": [
    {
     "name": "stdout",
     "output_type": "stream",
     "text": [
      "Fitting 5 folds for each of 20 candidates, totalling 100 fits\n",
      "[CV] END ...............................C=0.1, kernel=linear; total time=  11.9s\n",
      "[CV] END ...............................C=0.1, kernel=linear; total time=   9.4s\n",
      "[CV] END ...............................C=0.1, kernel=linear; total time=   9.1s\n",
      "[CV] END ...............................C=0.1, kernel=linear; total time=   8.4s\n",
      "[CV] END ...............................C=0.1, kernel=linear; total time=   8.1s\n",
      "[CV] END .................................C=1, kernel=linear; total time=   7.9s\n",
      "[CV] END .................................C=1, kernel=linear; total time=   7.8s\n",
      "[CV] END .................................C=1, kernel=linear; total time=   7.1s\n",
      "[CV] END .................................C=1, kernel=linear; total time=   6.9s\n",
      "[CV] END .................................C=1, kernel=linear; total time=   6.5s\n",
      "[CV] END ................................C=10, kernel=linear; total time=   7.8s\n",
      "[CV] END ................................C=10, kernel=linear; total time=   7.4s\n",
      "[CV] END ................................C=10, kernel=linear; total time=   7.4s\n",
      "[CV] END ................................C=10, kernel=linear; total time=   7.5s\n",
      "[CV] END ................................C=10, kernel=linear; total time=   7.9s\n",
      "[CV] END ...............................C=100, kernel=linear; total time=   6.5s\n",
      "[CV] END ...............................C=100, kernel=linear; total time=   6.6s\n",
      "[CV] END ...............................C=100, kernel=linear; total time=   7.0s\n",
      "[CV] END ...............................C=100, kernel=linear; total time=   7.0s\n",
      "[CV] END ...............................C=100, kernel=linear; total time=   7.2s\n",
      "[CV] END ......................C=0.1, gamma=0.01, kernel=rbf; total time=  11.3s\n",
      "[CV] END ......................C=0.1, gamma=0.01, kernel=rbf; total time=  11.1s\n",
      "[CV] END ......................C=0.1, gamma=0.01, kernel=rbf; total time=  11.1s\n",
      "[CV] END ......................C=0.1, gamma=0.01, kernel=rbf; total time=  10.9s\n",
      "[CV] END ......................C=0.1, gamma=0.01, kernel=rbf; total time=  11.3s\n",
      "[CV] END .......................C=0.1, gamma=0.1, kernel=rbf; total time=  10.5s\n",
      "[CV] END .......................C=0.1, gamma=0.1, kernel=rbf; total time=  10.2s\n",
      "[CV] END .......................C=0.1, gamma=0.1, kernel=rbf; total time=  10.1s\n",
      "[CV] END .......................C=0.1, gamma=0.1, kernel=rbf; total time=  10.0s\n",
      "[CV] END .......................C=0.1, gamma=0.1, kernel=rbf; total time=  10.4s\n",
      "[CV] END .........................C=0.1, gamma=1, kernel=rbf; total time=  10.2s\n",
      "[CV] END .........................C=0.1, gamma=1, kernel=rbf; total time=   9.8s\n",
      "[CV] END .........................C=0.1, gamma=1, kernel=rbf; total time=   9.3s\n",
      "[CV] END .........................C=0.1, gamma=1, kernel=rbf; total time=  10.2s\n",
      "[CV] END .........................C=0.1, gamma=1, kernel=rbf; total time=   9.9s\n",
      "[CV] END ........................C=0.1, gamma=10, kernel=rbf; total time=  12.2s\n",
      "[CV] END ........................C=0.1, gamma=10, kernel=rbf; total time=  12.3s\n",
      "[CV] END ........................C=0.1, gamma=10, kernel=rbf; total time=  11.7s\n",
      "[CV] END ........................C=0.1, gamma=10, kernel=rbf; total time=  11.7s\n",
      "[CV] END ........................C=0.1, gamma=10, kernel=rbf; total time=  11.8s\n",
      "[CV] END ........................C=1, gamma=0.01, kernel=rbf; total time=   9.8s\n",
      "[CV] END ........................C=1, gamma=0.01, kernel=rbf; total time=  10.4s\n",
      "[CV] END ........................C=1, gamma=0.01, kernel=rbf; total time=  10.1s\n",
      "[CV] END ........................C=1, gamma=0.01, kernel=rbf; total time=  10.1s\n",
      "[CV] END ........................C=1, gamma=0.01, kernel=rbf; total time=  10.1s\n",
      "[CV] END .........................C=1, gamma=0.1, kernel=rbf; total time=  10.3s\n",
      "[CV] END .........................C=1, gamma=0.1, kernel=rbf; total time=  12.1s\n",
      "[CV] END .........................C=1, gamma=0.1, kernel=rbf; total time=  11.9s\n",
      "[CV] END .........................C=1, gamma=0.1, kernel=rbf; total time=   9.7s\n",
      "[CV] END .........................C=1, gamma=0.1, kernel=rbf; total time=   9.8s\n",
      "[CV] END ...........................C=1, gamma=1, kernel=rbf; total time=   9.0s\n",
      "[CV] END ...........................C=1, gamma=1, kernel=rbf; total time=   9.4s\n",
      "[CV] END ...........................C=1, gamma=1, kernel=rbf; total time=   9.6s\n",
      "[CV] END ...........................C=1, gamma=1, kernel=rbf; total time=  10.1s\n",
      "[CV] END ...........................C=1, gamma=1, kernel=rbf; total time=   9.5s\n",
      "[CV] END ..........................C=1, gamma=10, kernel=rbf; total time=  11.4s\n",
      "[CV] END ..........................C=1, gamma=10, kernel=rbf; total time=  11.5s\n",
      "[CV] END ..........................C=1, gamma=10, kernel=rbf; total time=  13.0s\n",
      "[CV] END ..........................C=1, gamma=10, kernel=rbf; total time=  14.1s\n",
      "[CV] END ..........................C=1, gamma=10, kernel=rbf; total time=  12.8s\n",
      "[CV] END .......................C=10, gamma=0.01, kernel=rbf; total time=  10.3s\n",
      "[CV] END .......................C=10, gamma=0.01, kernel=rbf; total time=  16.2s\n",
      "[CV] END .......................C=10, gamma=0.01, kernel=rbf; total time=  12.0s\n",
      "[CV] END .......................C=10, gamma=0.01, kernel=rbf; total time=  12.1s\n",
      "[CV] END .......................C=10, gamma=0.01, kernel=rbf; total time=  12.6s\n",
      "[CV] END ........................C=10, gamma=0.1, kernel=rbf; total time=  11.3s\n",
      "[CV] END ........................C=10, gamma=0.1, kernel=rbf; total time=  11.1s\n",
      "[CV] END ........................C=10, gamma=0.1, kernel=rbf; total time=  10.4s\n",
      "[CV] END ........................C=10, gamma=0.1, kernel=rbf; total time=  11.4s\n",
      "[CV] END ........................C=10, gamma=0.1, kernel=rbf; total time=  10.4s\n",
      "[CV] END ..........................C=10, gamma=1, kernel=rbf; total time=   9.5s\n",
      "[CV] END ..........................C=10, gamma=1, kernel=rbf; total time=  10.4s\n",
      "[CV] END ..........................C=10, gamma=1, kernel=rbf; total time=   9.7s\n",
      "[CV] END ..........................C=10, gamma=1, kernel=rbf; total time=  10.0s\n",
      "[CV] END ..........................C=10, gamma=1, kernel=rbf; total time=  10.8s\n",
      "[CV] END .........................C=10, gamma=10, kernel=rbf; total time=  13.1s\n",
      "[CV] END .........................C=10, gamma=10, kernel=rbf; total time=  12.2s\n",
      "[CV] END .........................C=10, gamma=10, kernel=rbf; total time=  12.3s\n",
      "[CV] END .........................C=10, gamma=10, kernel=rbf; total time=  11.5s\n",
      "[CV] END .........................C=10, gamma=10, kernel=rbf; total time=  12.1s\n",
      "[CV] END ......................C=100, gamma=0.01, kernel=rbf; total time=  11.3s\n",
      "[CV] END ......................C=100, gamma=0.01, kernel=rbf; total time=  10.6s\n",
      "[CV] END ......................C=100, gamma=0.01, kernel=rbf; total time=  11.5s\n",
      "[CV] END ......................C=100, gamma=0.01, kernel=rbf; total time=  11.8s\n",
      "[CV] END ......................C=100, gamma=0.01, kernel=rbf; total time=  13.0s\n",
      "[CV] END .......................C=100, gamma=0.1, kernel=rbf; total time=  10.2s\n",
      "[CV] END .......................C=100, gamma=0.1, kernel=rbf; total time=  10.4s\n",
      "[CV] END .......................C=100, gamma=0.1, kernel=rbf; total time=  12.2s\n",
      "[CV] END .......................C=100, gamma=0.1, kernel=rbf; total time=  12.9s\n",
      "[CV] END .......................C=100, gamma=0.1, kernel=rbf; total time=  11.8s\n",
      "[CV] END .........................C=100, gamma=1, kernel=rbf; total time=  10.9s\n",
      "[CV] END .........................C=100, gamma=1, kernel=rbf; total time=   9.9s\n",
      "[CV] END .........................C=100, gamma=1, kernel=rbf; total time=   9.9s\n",
      "[CV] END .........................C=100, gamma=1, kernel=rbf; total time=  10.0s\n",
      "[CV] END .........................C=100, gamma=1, kernel=rbf; total time=   9.4s\n",
      "[CV] END ........................C=100, gamma=10, kernel=rbf; total time=  11.8s\n",
      "[CV] END ........................C=100, gamma=10, kernel=rbf; total time=  12.0s\n",
      "[CV] END ........................C=100, gamma=10, kernel=rbf; total time=  11.4s\n",
      "[CV] END ........................C=100, gamma=10, kernel=rbf; total time=  11.4s\n",
      "[CV] END ........................C=100, gamma=10, kernel=rbf; total time=  11.8s\n",
      "Best parameters: {'C': 100, 'kernel': 'linear'}\n",
      "Mean Squared Error: 5655867426.19539\n",
      "R-squared: 0.5683891426180658\n"
     ]
    }
   ],
   "source": [
    "# Define the parameter grid for GridSearchCV\n",
    "param_grid = [\n",
    "    {'kernel': ['linear'], 'C': [0.1, 1, 10, 100]},\n",
    "    {'kernel': ['rbf'], 'C': [0.1, 1, 10, 100], 'gamma': [0.01, 0.1, 1, 10]}\n",
    "]\n",
    "svr = SVR()\n",
    "\n",
    "# Perform GridSearchCV\n",
    "grid_search = GridSearchCV(svr, param_grid, cv=5, scoring='neg_mean_squared_error', verbose=2)\n",
    "grid_search.fit(X_train_prepared, y_train)\n",
    "\n",
    "# Display the best parameters and model performance\n",
    "print(\"Best parameters:\", grid_search.best_params_)\n",
    "best_model = grid_search.best_estimator_\n",
    "\n",
    "# Predict on the test set\n",
    "y_pred = best_model.predict(X_test_prepared)\n",
    "\n",
    "# Evaluate the model\n",
    "mse = mean_squared_error(y_test, y_pred)\n",
    "r2 = r2_score(y_test, y_pred)\n",
    "\n",
    "print(\"Mean Squared Error:\", mse)\n",
    "print(\"R-squared:\", r2)"
   ]
  },
  {
   "cell_type": "markdown",
   "metadata": {},
   "source": [
    "### 2. Using RandomizedSearchCV:"
   ]
  },
  {
   "cell_type": "code",
   "execution_count": 13,
   "metadata": {},
   "outputs": [
    {
     "name": "stdout",
     "output_type": "stream",
     "text": [
      "Best parameters: {'svr__C': 89.0620438616168, 'svr__gamma': 0.628789100540856, 'svr__kernel': 'linear'}\n",
      "Best RMSE: 72070.5042575946\n"
     ]
    }
   ],
   "source": [
    "# Define SVR pipeline\n",
    "svr_pipeline = Pipeline(steps=[\n",
    "    ('preprocessor', preprocessor),\n",
    "    ('svr', SVR())\n",
    "])\n",
    "\n",
    "# Correct parameter distribution with step prefix\n",
    "param_distributions = {\n",
    "    'svr__kernel': ['linear', 'rbf'],  # Note the 'svr__' prefix\n",
    "    'svr__C': reciprocal(0.1, 100),\n",
    "    'svr__gamma': expon(scale=1)  # Only applies if 'kernel' is 'rbf'\n",
    "}\n",
    "\n",
    "# RandomizedSearchCV\n",
    "random_search = RandomizedSearchCV(\n",
    "    estimator=svr_pipeline,\n",
    "    param_distributions=param_distributions,\n",
    "    n_iter=20,\n",
    "    cv=3,\n",
    "    scoring='neg_mean_squared_error',\n",
    "    random_state=42\n",
    ")\n",
    "\n",
    "# Fit the model\n",
    "random_search.fit(X_train, y_train)\n",
    "\n",
    "# Output the best parameters and RMSE\n",
    "print(\"Best parameters:\", random_search.best_params_)\n",
    "print(\"Best RMSE:\", np.sqrt(-random_search.best_score_))\n"
   ]
  },
  {
   "cell_type": "markdown",
   "metadata": {},
   "source": [
    "### 3. Preparing pipeline to select only the most important attributes"
   ]
  },
  {
   "cell_type": "code",
   "execution_count": 14,
   "metadata": {},
   "outputs": [],
   "source": [
    "# Assuming the following columns for numerical and categorical features\n",
    "numerical_features = ['longitude', 'latitude', 'housing_median_age', 'total_rooms', 'total_bedrooms', 'population', 'households', 'median_income']\n",
    "categorical_features = ['ocean_proximity']\n",
    "\n",
    "# Preprocessing pipeline with feature selection\n",
    "numerical_pipeline = Pipeline(steps=[\n",
    "    ('scaler', StandardScaler()),\n",
    "    ('feature_selector', SelectKBest())  # Feature selection step\n",
    "])\n",
    "\n",
    "categorical_pipeline = Pipeline(steps=[\n",
    "    ('onehot', OneHotEncoder(handle_unknown='ignore'))\n",
    "])\n",
    "\n",
    "preprocessor = ColumnTransformer(\n",
    "    transformers=[\n",
    "        ('num', numerical_pipeline, numerical_features),\n",
    "        ('cat', categorical_pipeline, categorical_features)\n",
    "    ])"
   ]
  },
  {
   "cell_type": "code",
   "execution_count": 15,
   "metadata": {},
   "outputs": [
    {
     "name": "stdout",
     "output_type": "stream",
     "text": [
      "Best parameters (Pipeline): {'preprocessor__num__feature_selector__k': 5, 'svr__C': 1, 'svr__gamma': 0.01}\n",
      "Best RMSE (Pipeline): 118699.21911830842\n"
     ]
    }
   ],
   "source": [
    "# Define parameter grid for grid search\n",
    "svr_pipeline = Pipeline(steps=[\n",
    "    ('preprocessor', preprocessor),\n",
    "    ('svr', SVR())\n",
    "])\n",
    "\n",
    "# Define parameter grid for grid search\n",
    "param_grid_pipeline = {\n",
    "    'preprocessor__num__feature_selector__k': [5], \n",
    "    'svr__C': [0.1, 1],\n",
    "    'svr__gamma': [0.01]\n",
    "}\n",
    "\n",
    "# GridSearchCV\n",
    "grid_search_pipeline = GridSearchCV(\n",
    "    estimator=svr_pipeline,\n",
    "    param_grid=param_grid_pipeline,\n",
    "    cv=3,\n",
    "    scoring='neg_mean_squared_error',\n",
    "    error_score='raise'\n",
    ")\n",
    "grid_search_pipeline.fit(X_train, y_train)\n",
    "\n",
    "print(\"Best parameters (Pipeline):\", grid_search_pipeline.best_params_)\n",
    "print(\"Best RMSE (Pipeline):\", np.sqrt(-grid_search_pipeline.best_score_))"
   ]
  },
  {
   "cell_type": "markdown",
   "metadata": {},
   "source": [
    "### 4. Creating a single pipeline that does the full data preparation plus the final prediction "
   ]
  },
  {
   "cell_type": "code",
   "execution_count": 16,
   "metadata": {},
   "outputs": [],
   "source": [
    "# Define the complete pipeline\n",
    "full_pipeline = Pipeline(steps=[\n",
    "    ('preprocessor', preprocessor),\n",
    "    ('feature_selector', SelectKBest(score_func=f_regression, k=10)),  # Feature selection\n",
    "    ('model', SVR())  # Final prediction model\n",
    "])"
   ]
  },
  {
   "cell_type": "markdown",
   "metadata": {},
   "source": [
    "### 5. Automatically explore some preparation options using GridSearchCV"
   ]
  },
  {
   "cell_type": "code",
   "execution_count": 17,
   "metadata": {},
   "outputs": [],
   "source": [
    "# Assuming the following columns for numerical and categorical features\n",
    "numerical_features = ['longitude', 'latitude', 'housing_median_age', 'total_rooms', 'total_bedrooms', 'population', 'households', 'median_income']\n",
    "categorical_features = ['ocean_proximity']\n",
    "\n",
    "# Preprocessing pipelines\n",
    "numerical_pipeline = Pipeline(steps=[\n",
    "    ('imputer', SimpleImputer(strategy='mean')), \n",
    "    ('scaler', StandardScaler()),\n",
    "    ('feature_selector', SelectKBest(score_func=f_regression))  # Add score_func explicitly\n",
    "])\n",
    "categorical_pipeline = Pipeline(steps=[\n",
    "    ('onehot', OneHotEncoder(handle_unknown='ignore'))\n",
    "])\n",
    "\n",
    "preprocessor = ColumnTransformer(\n",
    "    transformers=[\n",
    "        ('num', numerical_pipeline, numerical_features),\n",
    "        ('cat', categorical_pipeline, categorical_features)\n",
    "    ]\n",
    ")\n",
    "\n",
    "\n",
    "# Full pipeline\n",
    "full_pipeline = Pipeline(steps=[\n",
    "    ('preprocessor', preprocessor),\n",
    "    ('svr', SVR())\n",
    "])"
   ]
  },
  {
   "cell_type": "code",
   "execution_count": 18,
   "metadata": {},
   "outputs": [
    {
     "name": "stdout",
     "output_type": "stream",
     "text": [
      "Best parameters: {'preprocessor__num__feature_selector__k': 8, 'svr__C': 100, 'svr__gamma': 'scale', 'svr__kernel': 'linear'}\n",
      "Best RMSE: 71837.41930036288\n"
     ]
    }
   ],
   "source": [
    "# Define the parameter grid for GridSearchCV\n",
    "param_grid = {\n",
    "    'preprocessor__num__feature_selector__k': [5, 8],\n",
    "    'svr__kernel': ['linear', 'rbf'],\n",
    "    'svr__C': [0.1, 1, 10, 100],\n",
    "    'svr__gamma': ['scale', 'auto']\n",
    "}\n",
    "\n",
    "# Split into train and test sets\n",
    "X_train, X_test, y_train, y_test = train_test_split(X, y, test_size=0.2, random_state=42)\n",
    "\n",
    "# GridSearchCV\n",
    "grid_search_pipeline = GridSearchCV(\n",
    "    estimator=full_pipeline,\n",
    "    param_grid=param_grid,\n",
    "    cv=3,\n",
    "    scoring='neg_mean_squared_error',\n",
    "    error_score='raise'\n",
    ")\n",
    "\n",
    "grid_search_pipeline.fit(X_train, y_train)\n",
    "\n",
    "# Results\n",
    "print(\"Best parameters:\", grid_search_pipeline.best_params_)\n",
    "print(\"Best RMSE:\", np.sqrt(-grid_search_pipeline.best_score_))"
   ]
  },
  {
   "cell_type": "code",
   "execution_count": 19,
   "metadata": {},
   "outputs": [],
   "source": [
    "X_train_prepared = prep_pipeline.fit_transform(X_train, y_train)"
   ]
  },
  {
   "cell_type": "code",
   "execution_count": 20,
   "metadata": {},
   "outputs": [
    {
     "name": "stdout",
     "output_type": "stream",
     "text": [
      "Best parameters: {'preprocessor__num__feature_selector__k': 8, 'svr__C': 100, 'svr__gamma': 'scale', 'svr__kernel': 'linear'}\n",
      "Mean Squared Error: 5200877604.880186\n",
      "R-squared: 0.603110350185339\n"
     ]
    }
   ],
   "source": [
    "# Display the best parameters and performance\n",
    "print(\"Best parameters:\", grid_search_pipeline.best_params_)\n",
    "best_model = grid_search_pipeline.best_estimator_\n",
    "\n",
    "# Predict on the test set\n",
    "y_pred = best_model.predict(X_test)\n",
    "\n",
    "# Evaluate the model\n",
    "mse = mean_squared_error(y_test, y_pred)\n",
    "r2 = r2_score(y_test, y_pred)\n",
    "\n",
    "print(\"Mean Squared Error:\", mse)\n",
    "print(\"R-squared:\", r2)"
   ]
  },
  {
   "cell_type": "code",
   "execution_count": null,
   "metadata": {},
   "outputs": [],
   "source": []
  },
  {
   "cell_type": "code",
   "execution_count": null,
   "metadata": {},
   "outputs": [],
   "source": []
  }
 ],
 "metadata": {
  "kernelspec": {
   "display_name": "mle-dev",
   "language": "python",
   "name": "python3"
  },
  "language_info": {
   "codemirror_mode": {
    "name": "ipython",
    "version": 3
   },
   "file_extension": ".py",
   "mimetype": "text/x-python",
   "name": "python",
   "nbconvert_exporter": "python",
   "pygments_lexer": "ipython3",
   "version": "3.8.12"
  }
 },
 "nbformat": 4,
 "nbformat_minor": 2
}
